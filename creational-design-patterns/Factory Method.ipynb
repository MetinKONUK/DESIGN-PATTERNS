{
 "cells": [
  {
   "cell_type": "markdown",
   "source": [
    "##### Factory Method Design Pattern\n",
    "Factory Method design pattern is a creational design pattern that provides an interface for creating objects in a super class, but allows subclasses to alter the type of objects that will be created.\n",
    "This pattern is useful when you want to create different types of objects with a common interface or base class, without explicitly specifying their concrete (non-abstract) classes in your code.\n",
    "Object creation may be the obligation of a super class or a function. But using a class for this task might and probably will be more maintainable and flexible.\n",
    "To understand the benefit of this pattern might be challenging, so let's look at this pattern by creating a scenario."
   ],
   "metadata": {
    "collapsed": false
   }
  },
  {
   "cell_type": "markdown",
   "source": [
    "##### Let's Assume That You Are Providing Libraries\n",
    "Let's assume that you are providing a library which helps programmers to log. In your first version you are providing 2 logging methods. Those are **Console Logger** and **File Logger**.\n",
    "We will start writing our code without *Factory Pattern*."
   ],
   "metadata": {
    "collapsed": false
   }
  },
  {
   "cell_type": "code",
   "execution_count": 9,
   "outputs": [],
   "source": [
    "from abc import ABC, abstractmethod\n",
    "\n",
    "class Logger(ABC):\n",
    "    @abstractmethod\n",
    "    def log(self, message):\n",
    "        pass\n",
    "\n",
    "class ConsoleLogger(Logger):\n",
    "    def log(self, message):\n",
    "        # Your ConsoleLogger specific actions fall here\n",
    "        pass\n",
    "\n",
    "class FileLogger(Logger):\n",
    "    def log(self, message):\n",
    "        # Your FileLogger specific actions fall here\n",
    "        pass\n",
    "__all__ = [\"ConsoleLogger\", \"FileLogger\"]"
   ],
   "metadata": {
    "collapsed": false
   }
  },
  {
   "cell_type": "markdown",
   "source": [
    "##### Providing Library As Above\n",
    "The user will import our classes like this below.\n",
    "```\n",
    "import ConsoleLogger, FileLogger\n",
    "console_logger = ConsoleLogger()\n",
    "file_logger = FileLogger()\n",
    "```\n",
    "This seems right. But is your service going to be same as this for eternity? No.\n",
    "Let's assume that you wrote another method which allows users to log to the database."
   ],
   "metadata": {
    "collapsed": false
   }
  },
  {
   "cell_type": "code",
   "execution_count": 10,
   "outputs": [],
   "source": [
    "class DatabaseLogger(Logger):\n",
    "    def log(self, message):\n",
    "        # Your ConsoleLogger specific actions fall here\n",
    "        pass\n",
    "__all__.append(\"DatabaseLogger\")"
   ],
   "metadata": {
    "collapsed": false
   }
  },
  {
   "cell_type": "markdown",
   "source": [
    "##### Another Method Feature Just Deployed\n",
    "The users who are using your library are happy because now they are able to log to the database!\n",
    "But how do they use the new feature?\n",
    "```\n",
    "import ConsoleLogger, FileLogger, DatabaseLogger\n",
    "db_logger = DatabaseLogger()\n",
    "```\n",
    "\n",
    "I call your attention to the new import. We added a new import. Well there are only 3 imports, it ain't much, maybe you say. But what if there were 100 different features? Were the user going to remember all specific names of the classes? Maybe they can, but it is not easy.\n",
    "The Factory Pattern lets us abstract the user and publishing new features without their awareness."
   ],
   "metadata": {
    "collapsed": false
   }
  },
  {
   "cell_type": "code",
   "execution_count": 11,
   "outputs": [],
   "source": [
    "from abc import ABC, abstractmethod\n",
    "class Logger(ABC):\n",
    "    @abstractmethod\n",
    "    def log(self, message):\n",
    "        pass\n",
    "\n",
    "class ConsoleLogger(Logger):\n",
    "    def log(self, message):\n",
    "        # Your ConsoleLogger specific actions fall here\n",
    "        pass\n",
    "\n",
    "class FileLogger(Logger):\n",
    "    def log(self, message):\n",
    "        # Your FileLogger specific actions fall here\n",
    "        pass\n",
    "\n",
    "\n",
    "class DatabaseLogger(Logger):\n",
    "    def log(self, message):\n",
    "        # Your ConsoleLogger specific actions fall here\n",
    "        pass\n",
    "\n",
    "# Wrap them up\n",
    "class LoggerFactory:\n",
    "     @staticmethod\n",
    "     def create_logger(logger_type):\n",
    "         if logger_type == \"console\":\n",
    "             return ConsoleLogger()\n",
    "         elif logger_type == \"file\":\n",
    "             return FileLogger()\n",
    "         elif logger_type == \"database\":\n",
    "             return DatabaseLogger()\n",
    "         else:\n",
    "             raise ValueError(\"Invalid logger type argument\")\n",
    "\n",
    "# all you need to do is to export LoggerFactory class\n",
    "__all__ = [\"LoggerFactory\"]"
   ],
   "metadata": {
    "collapsed": false
   }
  },
  {
   "cell_type": "markdown",
   "source": [
    "##### One Access Point\n",
    "Now users can access all the features from one point which is LoggerFactory\n",
    "```\n",
    "import LoggerFactory\n",
    "logger = LoggerFactory.create_logger('console')\n",
    "logger.log()\n",
    "```\n",
    "\n",
    "Users do not need to know the exact name of the class which logs to the console. Maybe it has a name with 100 length? Who cares, they just refer it by simply giving ***logger_type = 'console'*** argument.\n",
    "They don't need to import multiple classes, it is enough to import only LoggerFactory."
   ],
   "metadata": {
    "collapsed": false
   }
  },
  {
   "cell_type": "markdown",
   "source": [
    "#### All The Benefits Of Factory Method Design Pattern\n",
    "1. **Abstraction**: Factory Method abstracts the object creation process, allowing users to create objects without knowing the exact class names or implementations, making the client code more readable.\n",
    "2. **Centralized object creation**: This pattern centralizes object creation in a single location, simplifying management and maintenance of the object creation process.\n",
    "3. **Extensibility**: Factory Method makes it easier to add new classes or modify existing ones without changing the client code, promoting the Open/Closed Principle.\n",
    "4. **Dependency inversion**: The pattern adheres to the Dependency Inversion Principle, ensuring that the client code depends on abstractions, not concrete classes, leading to a more flexible and modular design.\n",
    "5. **Managing object creation complexity**: Factory Method can encapsulate the complexity of object creation when the process involves multiple steps or configurations, making the client code simpler and easier to understand."
   ],
   "metadata": {
    "collapsed": false
   }
  },
  {
   "cell_type": "code",
   "execution_count": 11,
   "outputs": [],
   "source": [],
   "metadata": {
    "collapsed": false
   }
  }
 ],
 "metadata": {
  "kernelspec": {
   "display_name": "Python 3",
   "language": "python",
   "name": "python3"
  },
  "language_info": {
   "codemirror_mode": {
    "name": "ipython",
    "version": 2
   },
   "file_extension": ".py",
   "mimetype": "text/x-python",
   "name": "python",
   "nbconvert_exporter": "python",
   "pygments_lexer": "ipython2",
   "version": "2.7.6"
  }
 },
 "nbformat": 4,
 "nbformat_minor": 0
}
