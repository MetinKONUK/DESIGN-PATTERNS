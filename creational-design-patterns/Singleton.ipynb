{
 "cells": [
  {
   "cell_type": "markdown",
   "metadata": {},
   "source": [
    "### Singleton Design Pattern\n",
    "\n",
    "Singleton design pattern is a *creational* design pattern that ensures a class has only **one** instance and provides a *global point of access* to that instance. This pattern is useful when you need to ensure that a class is instantiated only once, and the single instance of it is accessible globally.\n",
    "\n",
    "Some common use cases for the Singleton pattern include:\n",
    "\n",
    "- Database connections\n",
    "- File operations\n",
    "- Configuration settings\n",
    "\n",
    "By utilizing the Singleton pattern, you can manage shared resources efficiently and maintain a single source of truth for specific components of your application."
   ]
  },
  {
   "cell_type": "markdown",
   "metadata": {},
   "source": [
    "##### Example Use-Case\n",
    "Let's assume that we are developing an application and our application requires a configuration manager to manage application settings. Imagine this application as Instagram. Instagram has multiple screens (routes) and all of those screens use the same settings. For example if you have set the theme as dark, your for you page and home page both have the dark theme. These two pages both use the same settings and there is no need to and must not to create the settings object from scratch. We must create a settings object once and for all.\n",
    "Let's solve this problem with singleton pattern."
   ]
  },
  {
   "cell_type": "markdown",
   "metadata": {},
   "source": [
    "##### Before The Code\n",
    "Before reading and understanding the code, know this: When an object call is made in Python, the class' \"__ new __\" method is being called, and it returns a new, uninitialized \"object\". We have overwritten this method and changed its basic functionality. I am saying overwritten because it is inherited from \"Object\" class."
   ]
  },
  {
   "cell_type": "code",
   "execution_count": 14,
   "metadata": {},
   "outputs": [],
   "source": [
    "class SettingsManager:\n",
    "    \"\"\"\n",
    "    This class is a singleton class which is responsible for managing application settings.\n",
    "    \"\"\"\n",
    "    _instance: object = None\n",
    "    # noinspection PyProtectedMember\n",
    "    def __new__(cls, *args, **kwargs) -> object:\n",
    "        \"\"\"\n",
    "        This method is being called when an object call is made.\n",
    "        :param cls: Class itself\n",
    "        :return: Returns an object\n",
    "        \"\"\"\n",
    "        if cls._instance is None:\n",
    "            cls._instance = super().__new__(cls)\n",
    "            cls._instance._initialize()\n",
    "        return cls._instance\n",
    "\n",
    "    def _initialize(self) -> None:\n",
    "        \"\"\"\n",
    "        This method is being called when an object is created for the first time.\n",
    "        :return: None\n",
    "        \"\"\"\n",
    "        self._settings: dict = {\n",
    "            'theme': 'dark',\n",
    "        }\n",
    "        return None\n",
    "\n",
    "    def set_setting(self, setting_name: str, setting_value: str) -> None:\n",
    "        \"\"\"\n",
    "        This method is being called when you want to set a setting.\n",
    "        :param setting_name: Name of the setting\n",
    "        :param setting_value: Value of the setting\n",
    "        :return: None\n",
    "        \"\"\"\n",
    "        self._settings[setting_name] = setting_value\n",
    "        return None\n",
    "\n",
    "    def get_setting(self, setting_name: str) -> str:\n",
    "        \"\"\"\n",
    "        This method is being called when you want to get a setting.\n",
    "        :param setting_name: Name of the setting\n",
    "        :return: Value of the setting\n",
    "        \"\"\"\n",
    "        return self._settings.get(setting_name)"
   ]
  },
  {
   "cell_type": "code",
   "execution_count": 15,
   "metadata": {},
   "outputs": [],
   "source": [
    "sm_first = SettingsManager()\n",
    "sm_first.set_setting('theme', 'light')"
   ]
  },
  {
   "cell_type": "code",
   "execution_count": 16,
   "metadata": {},
   "outputs": [
    {
     "data": {
      "text/plain": [
       "'light'"
      ]
     },
     "execution_count": 16,
     "metadata": {},
     "output_type": "execute_result"
    }
   ],
   "source": [
    "sm_first.get_setting('theme')"
   ]
  },
  {
   "cell_type": "code",
   "execution_count": 17,
   "metadata": {},
   "outputs": [
    {
     "data": {
      "text/plain": [
       "'light'"
      ]
     },
     "execution_count": 17,
     "metadata": {},
     "output_type": "execute_result"
    }
   ],
   "source": [
    "# now let's make another object call\n",
    "sm_second = SettingsManager()\n",
    "sm_second.get_setting('theme')"
   ]
  },
  {
   "cell_type": "code",
   "execution_count": 18,
   "metadata": {},
   "outputs": [],
   "source": [
    "# This message is not going to be printed since these objects are identical\n",
    "assert id(sm_first) == id(sm_second), \"These are not the same objects!\""
   ]
  },
  {
   "cell_type": "markdown",
   "metadata": {},
   "source": [
    "As you can see that our \"sm_second\" object is not another object but <b>same as</b> our first created object\n",
    "If we need to inspect the mechanism behind this behaviour, let's see what our approach does step-by-step.\n",
    "1. We make an object call with \"SettingsManager()\"\n",
    "2. SettingsManager class has the \"__ new __ \" method and this method is being called automatically when we try to create an object from this class. It normally creates a new object and returns it, but we have overwritten it. You might ask there is no inheritance in this scenario but there is. All Python classes derive from \"object\" class. \"cls\" parameter refers to class itself.\n",
    "3. SettingsManager class' \"__ new __ \" method is being called and since \"_instance\" is \"None\" it simply falls inside the if block.\n",
    "4. Inside the if block, the first and final object's _instance is being equal to new uninitialized instance of itself.\n",
    "5. Since you did not call the same class' \"__ new __ \" method but parent's \"__ new __ \" method, no recursion is being created.\n",
    "6. Then we call \"_initialize\" method to initialize class' attributes and take required actions. For example, if you are connecting to a database you might consider taking that action here. And there are our get and set methods which are basic and intuitive methods.\n",
    "7. When we try to make an object call for the second time or later. Since our \"_instance\" is now set to an object and is not None, and we have overwritten the \"__ new __ \" method, it simply does not fall into the if block and returns the firstly created object which we call instance.\n",
    "8. We are good to make an object call in anywhere we wish, it is going to return our first object again and again and again."
   ]
  },
  {
   "cell_type": "markdown",
   "metadata": {},
   "source": [
    "##### I Had The Same Issue\n",
    "When I was coding a game named \"board game\" in university, I had a problem such that the matrix which was representing the board had to be reached by multiple classes. But since the game must be proceeding in a single board, I had to reach to the same board object from multiple classes and could not create different boards for different classes. So I used singleton pattern.\n",
    "##### Why I Did Not Use Import/Export?\n",
    "While importing and exporting objects can achieve similar goals as the Singleton pattern in some cases, there are some differences and potential issues that may arise when using this approach:\n",
    "<b>Global state</b>: Importing and exporting objects can lead to the creation and use of global state, which can make it harder to reason about the behavior of your program, especially as it grows in complexity. With the Singleton pattern, the state is encapsulated within the class, making it easier to manage and control.\n",
    "\n",
    "<b>Explicitness</b>: Using Singleton pattern makes the intent of having a single instance of a class more explicit, while importing and exporting objects may not make it clear that the object is intended to be a singleton. This can lead to confusion and potential bugs if multiple instances of the object are unintentionally created.\n",
    "\n",
    "<b>Initialization</b>: The Singleton pattern provides more control over when and how an instance is initialized, allowing for lazy initialization, for example. When importing and exporting objects, the instance is typically created when the module is imported, which may not be desirable in all cases.\n",
    "\n",
    "<b>Testability</b>: Singleton pattern instances can be easier to test, as they can be replaced or mocked during testing without affecting the global state. With imported and exported objects, replacing or mocking the object can be more difficult, as it may require modifying the global state or changing the way the object is imported.\n",
    "\n",
    "<b>Flexibility</b>: Using the Singleton pattern allows for more flexibility, as it can be more easily refactored or extended in the future. With imported and exported objects, refactoring or extending the object may require changing the way it is imported and used throughout the codebase, which can be more time-consuming and error-prone.\n",
    "\n",
    "While importing and exporting objects can be a valid solution for certain use cases, the Singleton pattern offers a more structured, flexible, and explicit way of ensuring that only one instance of a class is created and shared throughout the application."
   ]
  },
  {
   "cell_type": "code",
   "execution_count": 18,
   "metadata": {},
   "outputs": [],
   "source": []
  }
 ],
 "metadata": {
  "kernelspec": {
   "display_name": "Python 3 (ipykernel)",
   "language": "python",
   "name": "python3"
  },
  "language_info": {
   "codemirror_mode": {
    "name": "ipython",
    "version": 3
   },
   "file_extension": ".py",
   "mimetype": "text/x-python",
   "name": "python",
   "nbconvert_exporter": "python",
   "pygments_lexer": "ipython3",
   "version": "3.10.0"
  }
 },
 "nbformat": 4,
 "nbformat_minor": 1
}
